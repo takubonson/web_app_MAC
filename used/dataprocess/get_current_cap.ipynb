{
 "cells": [
  {
   "cell_type": "code",
   "execution_count": 5,
   "metadata": {},
   "outputs": [],
   "source": [
    "import pandas as pd\n",
    "import glob\n",
    "import csv"
   ]
  },
  {
   "cell_type": "code",
   "execution_count": 6,
   "metadata": {},
   "outputs": [],
   "source": [
    "filelist = glob.glob(\"./marketcap_processed/*\")"
   ]
  },
  {
   "cell_type": "code",
   "execution_count": 27,
   "metadata": {},
   "outputs": [],
   "source": [
    "with open(\"current_cap.csv\", \"w\") as f:\n",
    "    # columns\n",
    "    writer = csv.writer(f)\n",
    "    writer.writerow([\"株式コード\", \"時価総額\"])\n",
    "    \n",
    "    for file in filelist:\n",
    "        with open(file, \"r\") as cap_file:\n",
    "            code = file.split(\"/\")[-1].replace(\".csv\",\"\")\n",
    "            cap_data = cap_file.read().split(\"\\n\")\n",
    "            writer.writerow([code, cap_data[-2].split(\",\")[-1]])          "
   ]
  },
  {
   "cell_type": "code",
   "execution_count": null,
   "metadata": {},
   "outputs": [],
   "source": []
  }
 ],
 "metadata": {
  "interpreter": {
   "hash": "1dcdf90e2c09a31bdb49bf5c337633ad2e6fac9f7ca4b8bfe8998ae9815d777e"
  },
  "kernelspec": {
   "display_name": "Python 3.9.7 64-bit ('base': conda)",
   "language": "python",
   "name": "python3"
  },
  "language_info": {
   "codemirror_mode": {
    "name": "ipython",
    "version": 3
   },
   "file_extension": ".py",
   "mimetype": "text/x-python",
   "name": "python",
   "nbconvert_exporter": "python",
   "pygments_lexer": "ipython3",
   "version": "3.9.7"
  },
  "orig_nbformat": 4
 },
 "nbformat": 4,
 "nbformat_minor": 2
}
